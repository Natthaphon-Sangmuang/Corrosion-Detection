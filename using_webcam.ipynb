{
 "cells": [
  {
   "cell_type": "code",
   "execution_count": 1,
   "metadata": {},
   "outputs": [],
   "source": [
    "from ultralytics import YOLO\n",
    "import cv2\n",
    "import math \n",
    "import numpy as np\n",
    "import requests\n",
    "from PIL import ImageDraw ,Image"
   ]
  },
  {
   "cell_type": "code",
   "execution_count": 2,
   "metadata": {},
   "outputs": [],
   "source": [
    "import winsound\n",
    "frequency = 2500  # Set Frequency To 2500 Hertz\n",
    "duration = 50  # Set Duration To 1000 ms == 1 second\n",
    "# winsound.Beep(frequency, duration)"
   ]
  },
  {
   "cell_type": "code",
   "execution_count": 5,
   "metadata": {},
   "outputs": [],
   "source": [
    "url = 'http://10.232.141.63:8080//shot.jpg'\n",
    "while True:\n",
    "    img = requests.get(url)\n",
    "    img = cv2.imdecode(np.array(bytearray(img.content),dtype=np.uint8),-1)\n",
    "    img = cv2.resize(img,(640,480))\n",
    "    hsv = cv2.cvtColor(img,cv2.COLOR_BGR2HSV)\n",
    "    # Range for lower red\n",
    "    lower_red1 = np.array([0,70,50])\n",
    "    upper_red1 = np.array([20,255,150])\n",
    "    mask0 = cv2.inRange(hsv, lower_red1, upper_red1)\n",
    "    \n",
    "    # range for upper red\n",
    "    lower_red2 = np.array([220,70,50])\n",
    "    upper_red2 = np.array([255,255,150])\n",
    "    mask1 = cv2.inRange(hsv, lower_red2, upper_red2)\n",
    "    mask = mask0+mask1\n",
    "    output = cv2.bitwise_and(img, img, mask=mask)\n",
    "    numpy_horizontal = np.hstack((img, output))\n",
    "    corrosion_pixel = np.count_nonzero(mask)\n",
    "    if corrosion_pixel > 640*640*0.0025:\n",
    "        corrosion = 1\n",
    "        winsound.Beep(frequency, duration)\n",
    "        \n",
    "    else :\n",
    "        corrosion = 0 \n",
    "    final = cv2.putText(numpy_horizontal, str(corrosion), (50,50), cv2.FONT_HERSHEY_SIMPLEX , 2, (255, 0, 0) , 2, cv2.LINE_AA) \n",
    "    \n",
    "    cv2.imshow('Webcam', final)\n",
    "\n",
    "    if cv2.waitKey(1) == ord('q'):\n",
    "        break\n",
    "\n",
    "# cap.release()\n",
    "cv2.destroyAllWindows()"
   ]
  },
  {
   "cell_type": "code",
   "execution_count": 10,
   "metadata": {},
   "outputs": [],
   "source": [
    "# model\n",
    "model = YOLO('final_weights/detection.pt')\n",
    "# model.to('cuda')\n",
    "\n",
    "cam = cv2.VideoCapture(1) \n",
    "  \n",
    "# reading the input using the camera \n",
    " \n",
    "while True:\n",
    "    result, img = cam.read()\n",
    "    img = cv2.resize(img,(640,480))\n",
    "    results = model(img,conf=0.2,verbose=False)\n",
    "\n",
    "    # coordinates\n",
    "    for r in results:\n",
    "        boxes = r.boxes\n",
    "\n",
    "        for box in boxes:\n",
    "            # bounding box\n",
    "            x1, y1, x2, y2 = box.xyxy[0]\n",
    "            x1, y1, x2, y2 = int(x1), int(y1), int(x2), int(y2) # convert to int values\n",
    "\n",
    "            # put box in cam\n",
    "            cv2.rectangle(img, (x1, y1), (x2, y2), (255, 0, 255), 3)\n",
    "\n",
    "            # confidence\n",
    "            confidence = math.ceil((box.conf[0]*100))/100\n",
    "            # class name\n",
    "            cls = int(box.cls[0])\n",
    "\n",
    "            # object details\n",
    "            org = [x1, y1]\n",
    "            font = cv2.FONT_HERSHEY_SIMPLEX\n",
    "            fontScale = 1\n",
    "            color = (255, 0, 0)\n",
    "            thickness = 2\n",
    "\n",
    "            cv2.putText(img, f'corrosion {confidence}', org, font, fontScale, color, thickness)\n",
    "\n",
    "    cv2.imshow('Webcam', img)\n",
    "    if cv2.waitKey(1) == ord('q'):\n",
    "        break\n",
    "\n",
    "# cap.release()\n",
    "cv2.destroyAllWindows()"
   ]
  },
  {
   "cell_type": "code",
   "execution_count": 9,
   "metadata": {},
   "outputs": [
    {
     "ename": "NameError",
     "evalue": "name 'url' is not defined",
     "output_type": "error",
     "traceback": [
      "\u001b[1;31m---------------------------------------------------------------------------\u001b[0m",
      "\u001b[1;31mNameError\u001b[0m                                 Traceback (most recent call last)",
      "Cell \u001b[1;32mIn[9], line 6\u001b[0m\n\u001b[0;32m      3\u001b[0m \u001b[38;5;66;03m# model.to('cuda')\u001b[39;00m\n\u001b[0;32m      5\u001b[0m \u001b[38;5;28;01mwhile\u001b[39;00m \u001b[38;5;28;01mTrue\u001b[39;00m:\n\u001b[1;32m----> 6\u001b[0m     img \u001b[38;5;241m=\u001b[39m requests\u001b[38;5;241m.\u001b[39mget(\u001b[43murl\u001b[49m)\n\u001b[0;32m      7\u001b[0m     img \u001b[38;5;241m=\u001b[39m cv2\u001b[38;5;241m.\u001b[39mimdecode(np\u001b[38;5;241m.\u001b[39marray(\u001b[38;5;28mbytearray\u001b[39m(img\u001b[38;5;241m.\u001b[39mcontent),dtype\u001b[38;5;241m=\u001b[39mnp\u001b[38;5;241m.\u001b[39muint8),\u001b[38;5;241m-\u001b[39m\u001b[38;5;241m1\u001b[39m)\n\u001b[0;32m      8\u001b[0m     img \u001b[38;5;241m=\u001b[39m cv2\u001b[38;5;241m.\u001b[39mresize(img,(\u001b[38;5;241m640\u001b[39m,\u001b[38;5;241m480\u001b[39m))\n",
      "\u001b[1;31mNameError\u001b[0m: name 'url' is not defined"
     ]
    }
   ],
   "source": [
    "# model\n",
    "model = YOLO('final_weights/segmentation.pt')\n",
    "# model.to('cuda')\n",
    "\n",
    "while True:\n",
    "    img = requests.get(url)\n",
    "    img = cv2.imdecode(np.array(bytearray(img.content),dtype=np.uint8),-1)\n",
    "    img = cv2.resize(img,(640,480))\n",
    "    results = model.predict(np.array(img),conf=0.8,verbose=False)\n",
    "    \n",
    "    # coordinates\n",
    "    for r in results:\n",
    "        masks = r.masks\n",
    "        if masks != None :\n",
    "            for mask in masks:\n",
    "                # bounding box\n",
    "                polygon = mask.xy[0]\n",
    "                \n",
    "                drawn_img = cv2.polylines(img,np.int64([polygon]),isClosed = True,color = (255, 0, 0),thickness = 2)\n",
    "                cv2.imshow('Webcam', drawn_img)\n",
    "        else :\n",
    "            cv2.imshow('Webcam',img)\n",
    "    \n",
    "    if cv2.waitKey(1) == ord('q'):\n",
    "        break\n",
    "\n",
    "# cap.release()\n",
    "cv2.destroyAllWindows()"
   ]
  }
 ],
 "metadata": {
  "kernelspec": {
   "display_name": "img_env",
   "language": "python",
   "name": "python3"
  },
  "language_info": {
   "codemirror_mode": {
    "name": "ipython",
    "version": 3
   },
   "file_extension": ".py",
   "mimetype": "text/x-python",
   "name": "python",
   "nbconvert_exporter": "python",
   "pygments_lexer": "ipython3",
   "version": "3.11.5"
  }
 },
 "nbformat": 4,
 "nbformat_minor": 2
}
